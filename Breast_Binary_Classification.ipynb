{
  "nbformat": 4,
  "nbformat_minor": 0,
  "metadata": {
    "colab": {
      "provenance": []
    },
    "kernelspec": {
      "name": "python3",
      "display_name": "Python 3"
    },
    "language_info": {
      "name": "python"
    },
    "accelerator": "GPU",
    "gpuClass": "standard"
  },
  "cells": [
    {
      "cell_type": "code",
      "source": [
        "import numpy as np\n",
        "from keras.models import Model\n",
        "import tensorflow as tf\n",
        "from tensorflow import keras\n",
        "from keras import Sequential\n",
        "from keras.applications.vgg16 import VGG16\n",
        "from keras.layers import Dense, Conv2D, Flatten, MaxPooling2D, Dropout, GlobalAveragePooling2D, Input, AveragePooling2D, BatchNormalization, UpSampling2D, RandomFlip, RandomRotation\n",
        "from tensorflow.keras.preprocessing.image import load_img, img_to_array, array_to_img\n",
        "from tensorflow.python.keras import regularizers\n",
        "from keras.callbacks import EarlyStopping, ModelCheckpoint\n",
        "from tensorflow.keras.applications.inception_v3 import InceptionV3\n",
        "from tensorflow.keras.applications import ResNet50\n",
        "from keras.layers import concatenate\n",
        "from keras.preprocessing.image import ImageDataGenerator\n",
        "from tensorflow.python.keras import regularizers\n",
        "import pandas as pd\n",
        "import numpy as np\n",
        "import matplotlib.pyplot as plt\n",
        "from keras.utils import to_categorical\n",
        "from imblearn.over_sampling import RandomOverSampler\n",
        "from tensorflow.python.ops.gen_dataset_ops import dataset_to_graph_eager_fallback\n"
      ],
      "metadata": {
        "id": "QWXBuc0Xc-Ge"
      },
      "execution_count": 84,
      "outputs": []
    },
    {
      "cell_type": "code",
      "source": [
        "def load_dataset(npz_file_path):\n",
        "  data = np.load(npz_file_path)\n",
        "  # train_dataset = np.column_stack((data['train_images'], data['train_labels']))\n",
        "  # test_dataset = np.column_stack((data['test_images'], data['test_labels']))\n",
        "  train_X = data['train_images']\n",
        "  train_Y = data['train_labels']\n",
        "  test_X = data['test_images']\n",
        "  test_Y = data['test_labels']\n",
        "  val_X = data['val_images']\n",
        "  val_Y = data['val_labels']\n",
        "  lst = data.files\n",
        "\n",
        "  return train_X, train_Y, test_X, test_Y, val_X, val_Y\n"
      ],
      "metadata": {
        "id": "1334ADajrfYy"
      },
      "execution_count": 85,
      "outputs": []
    },
    {
      "cell_type": "code",
      "source": [
        "def check_train_class_balance(train_Y) -> (bool, dict):\n",
        "\n",
        "  unique, counts = np.unique(train_Y, return_counts=True)\n",
        "  label_dict = dict(zip(unique, counts))\n",
        "  isTrue =  True if label_dict[0] == label_dict[1] else False\n",
        "  return isTrue, label_dict\n"
      ],
      "metadata": {
        "id": "GUz01R54ODcN"
      },
      "execution_count": 119,
      "outputs": []
    },
    {
      "cell_type": "code",
      "source": [
        "def plot_ground_truth_images(train_X, train_Y):\n",
        "  # Convert the output labels to one-hot encoded format#\n",
        "  y_breast = to_categorical(train_Y)\n",
        "\n",
        "  # Create a dictionary mapping class indices to class labels\n",
        "  class_labels_breast = {0: 'Malignant',1: 'Normal'}\n",
        "\n",
        "  # Randomly select 10 images from the dataset\n",
        "  indices_breast = np.random.choice(train_X.shape[0], size=15, replace=False)\n",
        "\n",
        "  # Plot the images and corresponding class labels\n",
        "  fig, axes = plt.subplots(nrows=3, ncols=5, figsize=(10, 5))\n",
        "  for i, ax in enumerate(axes.flat):\n",
        "    ax.imshow(train_X[indices_breast[i]], cmap='gray')\n",
        "    ax.set_title(class_labels_breast[np.argmax(y_breast[indices_breast[i]])])\n",
        "    ax.axis('off')\n",
        "  plt.tight_layout()\n",
        "  plt.show()\n"
      ],
      "metadata": {
        "id": "PexWwHiC3Eec"
      },
      "execution_count": 87,
      "outputs": []
    },
    {
      "cell_type": "code",
      "source": [
        "import matplotlib.pyplot as plt\n",
        "import cv2 as cv2\n",
        "from PIL import Image\n",
        "indx = 10\n",
        "plt.imshow(test_X[indx], cmap='gray')\n",
        "\n",
        "plt.axis('off')\n",
        "# plt.imsave('test_18.jpg',test_X[indx], cmap='gray')\n",
        "# plt.show()\n",
        "im = Image.fromarray(np.uint8(test_X[indx]))\n",
        "cv2.imwrite('test_10.png', test_X[indx])"
      ],
      "metadata": {
        "colab": {
          "base_uri": "https://localhost:8080/",
          "height": 265
        },
        "id": "_tcI3OytRBrz",
        "outputId": "84e4a366-3a84-46ee-a7de-55d6d8b76112"
      },
      "execution_count": 88,
      "outputs": [
        {
          "output_type": "execute_result",
          "data": {
            "text/plain": [
              "True"
            ]
          },
          "metadata": {},
          "execution_count": 88
        },
        {
          "output_type": "display_data",
          "data": {
            "text/plain": [
              "<Figure size 432x288 with 1 Axes>"
            ],
            "image/png": "[encoded data removed]"
          },
          "metadata": {
            "needs_background": "light"
          }
        }
      ]
    },
    {
      "cell_type": "code",
      "source": [
        "def oversample_train_data_class(train_X,train_Y)-> (bool, np.ndarray, np.ndarray, dict):\n",
        "  # Preprocess train X data for oversampling, i.e. flattening shape from (546,28,28) to (546,784)\n",
        "  X = train_X.reshape(len(train_X),-1)\n",
        "\n",
        "  # Use RandomOverSampler from imblearn for oversampling minority class, i.e. 0 (Malignant) in this case\n",
        "  ros = RandomOverSampler(random_state=0)\n",
        "  X_resampled, y_resampled = ros.fit_resample(X, train_Y)\n",
        "\n",
        "  # Reshape train data back to (798,28,28)\n",
        "  X_resampled=X_resampled.reshape(798,28,28)\n",
        "  X_resampled = np.expand_dims(X_resampled, axis=-1)\n",
        "  unique, counts = np.unique(y_resampled, return_counts=True)\n",
        "  label_dict = dict(zip(unique, counts))\n",
        "\n",
        "  # Evaluate the oversampled data and check for imbalance again\n",
        "  isTrue =  True if label_dict[0] == label_dict[1] else False\n",
        "  return isTrue, X_resampled, y_resampled, label_dict"
      ],
      "metadata": {
        "id": "oD-OT6ZVWBZ0"
      },
      "execution_count": 131,
      "outputs": []
    },
    {
      "cell_type": "code",
      "source": [
        "def augment_train_data(train_X, train_Y, batch_size=32):\n",
        "  datagen = ImageDataGenerator(\n",
        "    rotation_range=15,\n",
        "    width_shift_range=0.1,\n",
        "    height_shift_range=0.1,\n",
        "    zoom_range=0.1,\n",
        "    horizontal_flip=True,\n",
        "    vertical_flip=True,\n",
        "    fill_mode='nearest'\n",
        "  )\n",
        "\n",
        "  datagen.fit(train_X)\n",
        "  augmented_data = datagen.flow(train_X, train_Y, batch_size=batch_size)\n",
        "  return augmented_data"
      ],
      "metadata": {
        "id": "Gic-JPN6HwHa"
      },
      "execution_count": 132,
      "outputs": []
    },
    {
      "cell_type": "code",
      "source": [
        "\n",
        "def create_model_backbone()->keras.Model:\n",
        "  model = Sequential()\n",
        "  model.add(Conv2D(16,kernel_size=(3,3), padding='valid', activation='relu', input_shape=(28,28,1)))\n",
        "  model.add(BatchNormalization())\n",
        "  model.add(MaxPooling2D(pool_size=(2,2),strides=2, padding='valid'))\n",
        "  # \n",
        "\n",
        "  model.add(Conv2D(32,kernel_size=(3,3), padding='valid', activation='relu'))\n",
        "\n",
        "  model.add(MaxPooling2D(pool_size=(2,2)))\n",
        "  # model.add(BatchNormalization())\n",
        "\n",
        "  model.add(Conv2D(32,kernel_size=(3,3), padding='valid', activation='relu'))\n",
        "\n",
        "  model.add(MaxPooling2D(pool_size=(2,2)))\n",
        "  # model.add(Conv2D(64,kernel_size=(3,3), padding='valid', activation='relu'))\n",
        "  # model.add(MaxPooling2D(pool_size=(2,2),strides=2, padding='valid'))\n",
        "\n",
        "\n",
        "  model.add(Conv2D(128,kernel_size=(3,3), padding='same', activation='relu', ))\n",
        "  model.add(MaxPooling2D(pool_size=(2,2),strides=2, padding='same'))\n",
        "  # model.add(UpSampling2D(size=(2, 2)))\n",
        "\n",
        "  # model.add(Conv2D(256,kernel_size=(3,3), padding='same', activation='relu'))\n",
        "  # model.add(MaxPooling2D(pool_size=(2,2),strides=2, padding='same'))\n",
        "\n",
        "  model.add(Flatten())\n",
        "\n",
        "  # model.add(Dense(256, activation='relu'))\n",
        "  # model.add(Dropout(0.1))\n",
        "  # model.add(Dropout(0.5))\n",
        "  # model.add(BatchNormalization())\n",
        "  model.add(Dense(1, activation='sigmoid', kernel_regularizer=regularizers.l1(0.05)))\n",
        "  return model"
      ],
      "metadata": {
        "id": "MiAoEjm4qKcy"
      },
      "execution_count": 133,
      "outputs": []
    },
    {
      "cell_type": "code",
      "source": [
        "def compile_model(model: keras.Model) -> keras.Model:\n",
        "  # Create Adam optimizer with learning rate set to 0.0001\n",
        "  optimizer = keras.optimizers.Adam(learning_rate=0.0001)\n",
        "\n",
        "  # Create Binary Cross entropy for loss function\n",
        "  loss = tf.keras.losses.BinaryCrossentropy()\n",
        "\n",
        "  # Compile and return model\n",
        "  model.compile(optimizer=optimizer,loss=loss, metrics=['accuracy'])\n",
        "  return model"
      ],
      "metadata": {
        "id": "OGEcTh83G3oB"
      },
      "execution_count": 134,
      "outputs": []
    },
    {
      "cell_type": "code",
      "source": [
        "def train_model(train_data, model: keras.Model, validation_X:np.ndarray,validation_Y:np.ndarray, callbacks = [], epochs=160, verbose=1, steps_per_epoch=23):\n",
        "  \n",
        "  # Fit model for training\n",
        "  history = model.fit(train_data, validation_data=(val_X, val_Y), epochs=epochs, verbose=verbose, steps_per_epoch=steps_per_epoch, callbacks=callbacks)"
      ],
      "metadata": {
        "id": "wPOQ2jZAPmtz"
      },
      "execution_count": 135,
      "outputs": []
    },
    {
      "cell_type": "code",
      "source": [
        "def plot_model_accuracy_graph():\n",
        "  training_loss = history.history['loss']\n",
        "  test_loss = history.history['val_loss']\n",
        "\n",
        "  epoch_count = range(1, len(training_loss) + 1)\n",
        "\n",
        "  plt.plot(epoch_count, training_loss, \"r--\")\n",
        "  plt.plot(epoch_count, test_loss, \"b--\")\n",
        "  plt.legend([\"Training Loss\", \"Test Loss\"])\n",
        "  plt.xlabel(\"Epoch\")\n",
        "  plt.ylabel(\"Loss\")\n",
        "  plt.yticks([0.25,0.50,0.75,1.00,1.25,1.50,1.75,2.00])\n",
        "  plt.show()\n",
        "\n",
        "  training_accuracy = history.history[\"accuracy\"]\n",
        "  test_accuracy = history.history[\"val_accuracy\"]\n",
        "\n",
        "  plt.plot(epoch_count, training_accuracy, \"r--\")\n",
        "  plt.plot(epoch_count, test_accuracy, \"b--\")\n",
        "  plt.legend([\"Training Accuracy\", \"Test Accuracy\"])\n",
        "  plt.xlabel(\"Epoch\")\n",
        "  plt.ylabel(\"Accuracy Score\")\n",
        "  plt.yticks([0.2,0.3,0.4,0.5,0.6,0.7,0.8,0.9])\n",
        "  plt.show()"
      ],
      "metadata": {
        "id": "19KuXzMjW-4U"
      },
      "execution_count": 136,
      "outputs": []
    },
    {
      "cell_type": "code",
      "source": [
        "def predict_class_of_image(model: keras.Model, indx: int):\n",
        "  test = test_X[ind].reshape(-1,28,28,1)\n",
        "  print(model.predict(test))\n",
        "  print(test_Y[ind])"
      ],
      "metadata": {
        "id": "l4C4v81fXNks"
      },
      "execution_count": 137,
      "outputs": []
    },
    {
      "cell_type": "code",
      "source": [
        "# Train, Val, Test - loading of data\n",
        "train_X, train_Y, test_X, test_Y, val_X, val_Y = load_dataset('/content/breastmnist.npz')"
      ],
      "metadata": {
        "id": "b_dL0RywXmnE"
      },
      "execution_count": 138,
      "outputs": []
    },
    {
      "cell_type": "code",
      "source": [
        "# Plot Ground Truth and coresponding images of train data\n",
        "plot_ground_truth_images(train_X, train_Y)"
      ],
      "metadata": {
        "colab": {
          "base_uri": "https://localhost:8080/",
          "height": 369
        },
        "id": "0BPTb-ohaGBH",
        "outputId": "d01bee75-15f0-4464-d630-efab2b521a2b"
      },
      "execution_count": 143,
      "outputs": [
        {
          "output_type": "display_data",
          "data": {
            "text/plain": [
              "<Figure size 720x360 with 15 Axes>"
            ],
            "image/png": "[encoded data removed]"
          },
          "metadata": {
            "needs_background": "light"
          }
        }
      ]
    },
    {
      "cell_type": "code",
      "source": [
        "# Check for balanced classes in train data\n",
        "\n",
        "isBalanced, nunique_classes = check_train_class_balance(train_Y)\n",
        "print(\"Is train data classes balanced : %s\" % isBalanced)\n",
        "print(nunique_classes)"
      ],
      "metadata": {
        "colab": {
          "base_uri": "https://localhost:8080/"
        },
        "id": "4tnTo4I0X3aE",
        "outputId": "74f34eb5-73ef-473c-c0fc-c591ec452550"
      },
      "execution_count": 139,
      "outputs": [
        {
          "output_type": "stream",
          "name": "stdout",
          "text": [
            "Is train data classes balanced : False\n",
            "{0: 147, 1: 399}\n"
          ]
        }
      ]
    },
    {
      "cell_type": "code",
      "source": [
        "# Print final value of evaluation\n",
        "isBalanced, train_X, train_Y, nunique_classes = oversample_train_data_class(train_X, train_Y)\n",
        "print(\"Is train data classes balanced : %s\" % isBalanced)\n",
        "print(nunique_classes)"
      ],
      "metadata": {
        "colab": {
          "base_uri": "https://localhost:8080/"
        },
        "id": "NtwApv3xZdwO",
        "outputId": "83201bb6-38a3-4fac-a8a4-33951fc924c4"
      },
      "execution_count": 142,
      "outputs": [
        {
          "output_type": "stream",
          "name": "stdout",
          "text": [
            "Is train data classes balanced : True\n",
            "{0: 399, 1: 399}\n"
          ]
        }
      ]
    },
    {
      "cell_type": "code",
      "source": [
        "# callbacks = [EarlyStopping(monitor=\"val_loss\", patience=3),\n",
        "# ModelCheckpoint(filepath=\"/content/best_model.h5\",\n",
        "# monitor=\"val_loss\",\n",
        "# save_best_only=True)]\n",
        "\n",
        "# Create self defined model for deep learning\n",
        "model = create_model_backbone()\n",
        "model.summary()"
      ],
      "metadata": {
        "colab": {
          "base_uri": "https://localhost:8080/"
        },
        "id": "VsHBjhNdaR63",
        "outputId": "28fac303-2b38-4ce1-a50d-4a24b9bc37b1"
      },
      "execution_count": 144,
      "outputs": [
        {
          "output_type": "stream",
          "name": "stdout",
          "text": [
            "Model: \"sequential_7\"\n",
            "_________________________________________________________________\n",
            " Layer (type)                Output Shape              Param #   \n",
            "=================================================================\n",
            " conv2d_28 (Conv2D)          (None, 26, 26, 16)        160       \n",
            "                                                                 \n",
            " batch_normalization_7 (Batc  (None, 26, 26, 16)       64        \n",
            " hNormalization)                                                 \n",
            "                                                                 \n",
            " max_pooling2d_28 (MaxPoolin  (None, 13, 13, 16)       0         \n",
            " g2D)                                                            \n",
            "                                                                 \n",
            " conv2d_29 (Conv2D)          (None, 11, 11, 32)        4640      \n",
            "                                                                 \n",
            " max_pooling2d_29 (MaxPoolin  (None, 5, 5, 32)         0         \n",
            " g2D)                                                            \n",
            "                                                                 \n",
            " conv2d_30 (Conv2D)          (None, 3, 3, 32)          9248      \n",
            "                                                                 \n",
            " max_pooling2d_30 (MaxPoolin  (None, 1, 1, 32)         0         \n",
            " g2D)                                                            \n",
            "                                                                 \n",
            " conv2d_31 (Conv2D)          (None, 1, 1, 128)         36992     \n",
            "                                                                 \n",
            " max_pooling2d_31 (MaxPoolin  (None, 1, 1, 128)        0         \n",
            " g2D)                                                            \n",
            "                                                                 \n",
            " flatten_7 (Flatten)         (None, 128)               0         \n",
            "                                                                 \n",
            " dense_7 (Dense)             (None, 1)                 129       \n",
            "                                                                 \n",
            "=================================================================\n",
            "Total params: 51,233\n",
            "Trainable params: 51,201\n",
            "Non-trainable params: 32\n",
            "_________________________________________________________________\n"
          ]
        }
      ]
    },
    {
      "cell_type": "code",
      "source": [
        "# Augment Data and us it for training the model\n",
        "train_data = augment_train_data(train_X,train_Y, batch_size=32)\n",
        "model = compile_model(model)\n",
        "train_model(train_data, model, val_X, val_Y)"
      ],
      "metadata": {
        "id": "-3qA8Yh1auM3"
      },
      "execution_count": null,
      "outputs": []
    },
    {
      "cell_type": "code",
      "source": [
        "plot_model_accuracy_graph()"
      ],
      "metadata": {
        "colab": {
          "base_uri": "https://localhost:8080/",
          "height": 545
        },
        "id": "ZJ4K-pJJW5_D",
        "outputId": "d29bdff5-2444-4388-f9a0-7b59b7b94fc6"
      },
      "execution_count": 104,
      "outputs": [
        {
          "output_type": "display_data",
          "data": {
            "text/plain": [
              "<Figure size 432x288 with 1 Axes>"
            ],
            "image/png": "[encoded data removed]"
          },
          "metadata": {
            "needs_background": "light"
          }
        },
        {
          "output_type": "display_data",
          "data": {
            "text/plain": [
              "<Figure size 432x288 with 1 Axes>"
            ],
            "image/png": "[encoded data removed]"
          },
          "metadata": {
            "needs_background": "light"
          }
        }
      ]
    },
    {
      "cell_type": "code",
      "source": [
        "ind = 20\n",
        "predict_class_of_image(model, ind)"
      ],
      "metadata": {
        "colab": {
          "base_uri": "https://localhost:8080/"
        },
        "id": "rD0O-C-Ov4pm",
        "outputId": "0e5e2928-73c1-41ee-bdcf-4aa83de7643a"
      },
      "execution_count": 107,
      "outputs": [
        {
          "output_type": "stream",
          "name": "stdout",
          "text": [
            "1/1 [==============================] - 0s 19ms/step\n",
            "[[0.3033274]]\n",
            "[0]\n"
          ]
        }
      ]
    },
    {
      "cell_type": "markdown",
      "source": [
        "#### Save trained model to file"
      ],
      "metadata": {
        "id": "qD4YTIzGpEHZ"
      }
    },
    {
      "cell_type": "code",
      "source": [
        "!mkdir -p saved_model\n",
        "model.save('saved_model/breast_self_model')"
      ],
      "metadata": {
        "colab": {
          "base_uri": "https://localhost:8080/"
        },
        "id": "a5XaqDL-CxnD",
        "outputId": "be9a0a6d-2a06-45c8-aa94-61091a8abe61"
      },
      "execution_count": 108,
      "outputs": [
        {
          "output_type": "stream",
          "name": "stderr",
          "text": [
            "WARNING:absl:Found untraced functions such as _jit_compiled_convolution_op, _jit_compiled_convolution_op, _jit_compiled_convolution_op, _jit_compiled_convolution_op while saving (showing 4 of 4). These functions will not be directly callable after loading.\n"
          ]
        }
      ]
    },
    {
      "cell_type": "code",
      "source": [
        "!zip -r /content/saved_model /content/saved_model"
      ],
      "metadata": {
        "colab": {
          "base_uri": "https://localhost:8080/"
        },
        "id": "6HJzVMZ0F5MW",
        "outputId": "65dbc301-43c6-4747-dd97-ab8309062d55"
      },
      "execution_count": 110,
      "outputs": [
        {
          "output_type": "stream",
          "name": "stdout",
          "text": [
            "  adding: content/saved_model/ (stored 0%)\n",
            "  adding: content/saved_model/breast_self_model/ (stored 0%)\n",
            "  adding: content/saved_model/breast_self_model/keras_metadata.pb (deflated 92%)\n",
            "  adding: content/saved_model/breast_self_model/saved_model.pb (deflated 89%)\n",
            "  adding: content/saved_model/breast_self_model/variables/ (stored 0%)\n",
            "  adding: content/saved_model/breast_self_model/variables/variables.data-00000-of-00001 (deflated 47%)\n",
            "  adding: content/saved_model/breast_self_model/variables/variables.index (deflated 65%)\n",
            "  adding: content/saved_model/breast_self_model/assets/ (stored 0%)\n",
            "  adding: content/saved_model/breast_self_model/fingerprint.pb (stored 0%)\n"
          ]
        }
      ]
    },
    {
      "cell_type": "code",
      "source": [
        "from google.colab import files\n",
        "files.download(\"/content/saved_model.zip\")"
      ],
      "metadata": {
        "colab": {
          "base_uri": "https://localhost:8080/",
          "height": 17
        },
        "id": "v1_luiQSGCPv",
        "outputId": "1823feaa-c181-41db-9883-6f806c254bfa"
      },
      "execution_count": 111,
      "outputs": [
        {
          "output_type": "display_data",
          "data": {
            "text/plain": [
              "<IPython.core.display.Javascript object>"
            ],
            "application/javascript": [
              "\n",
              "    async function download(id, filename, size) {\n",
              "      if (!google.colab.kernel.accessAllowed) {\n",
              "        return;\n",
              "      }\n",
              "      const div = document.createElement('div');\n",
              "      const label = document.createElement('label');\n",
              "      label.textContent = `Downloading \"${filename}\": `;\n",
              "      div.appendChild(label);\n",
              "      const progress = document.createElement('progress');\n",
              "      progress.max = size;\n",
              "      div.appendChild(progress);\n",
              "      document.body.appendChild(div);\n",
              "\n",
              "      const buffers = [];\n",
              "      let downloaded = 0;\n",
              "\n",
              "      const channel = await google.colab.kernel.comms.open(id);\n",
              "      // Send a message to notify the kernel that we're ready.\n",
              "      channel.send({})\n",
              "\n",
              "      for await (const message of channel.messages) {\n",
              "        // Send a message to notify the kernel that we're ready.\n",
              "        channel.send({})\n",
              "        if (message.buffers) {\n",
              "          for (const buffer of message.buffers) {\n",
              "            buffers.push(buffer);\n",
              "            downloaded += buffer.byteLength;\n",
              "            progress.value = downloaded;\n",
              "          }\n",
              "        }\n",
              "      }\n",
              "      const blob = new Blob(buffers, {type: 'application/binary'});\n",
              "      const a = document.createElement('a');\n",
              "      a.href = window.URL.createObjectURL(blob);\n",
              "      a.download = filename;\n",
              "      div.appendChild(a);\n",
              "      a.click();\n",
              "      div.remove();\n",
              "    }\n",
              "  "
            ]
          },
          "metadata": {}
        },
        {
          "output_type": "display_data",
          "data": {
            "text/plain": [
              "<IPython.core.display.Javascript object>"
            ],
            "application/javascript": [
              "download(\"download_929379f7-f6c7-4ccb-b6ef-9d7d9416f256\", \"saved_model.zip\", 359020)"
            ]
          },
          "metadata": {}
        }
      ]
    }
  ]
}